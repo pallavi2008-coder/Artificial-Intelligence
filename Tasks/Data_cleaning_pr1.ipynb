{
 "cells": [
  {
   "cell_type": "code",
   "execution_count": 15,
   "id": "68bd5d32-110b-4fc9-af19-9983bc76729b",
   "metadata": {},
   "outputs": [],
   "source": [
    "#import libraries\n",
    "\n",
    "import numpy as np\n",
    "import pandas as pd\n",
    "import matplotlib.pyplot as plt\n",
    "import seaborn as sns\n",
    "import warnings\n",
    "warnings.filterwarnings('ignore')"
   ]
  },
  {
   "cell_type": "code",
   "execution_count": 2,
   "id": "2fa4b699-2cd4-47d7-861d-cafe2f8fcb2f",
   "metadata": {},
   "outputs": [],
   "source": [
    "#import dataset\n",
    "\n",
    "ds=pd.read_csv(\"raw_messy_dataset.csv\")"
   ]
  },
  {
   "cell_type": "code",
   "execution_count": 3,
   "id": "b17f2ae8-32d8-4304-9383-1963be736187",
   "metadata": {},
   "outputs": [
    {
     "data": {
      "text/html": [
       "<div>\n",
       "<style scoped>\n",
       "    .dataframe tbody tr th:only-of-type {\n",
       "        vertical-align: middle;\n",
       "    }\n",
       "\n",
       "    .dataframe tbody tr th {\n",
       "        vertical-align: top;\n",
       "    }\n",
       "\n",
       "    .dataframe thead th {\n",
       "        text-align: right;\n",
       "    }\n",
       "</style>\n",
       "<table border=\"1\" class=\"dataframe\">\n",
       "  <thead>\n",
       "    <tr style=\"text-align: right;\">\n",
       "      <th></th>\n",
       "      <th>Name</th>\n",
       "      <th>Age</th>\n",
       "      <th>Gender</th>\n",
       "      <th>Email</th>\n",
       "      <th>Join_Date</th>\n",
       "      <th>Salary</th>\n",
       "      <th>Department</th>\n",
       "    </tr>\n",
       "  </thead>\n",
       "  <tbody>\n",
       "    <tr>\n",
       "      <th>count</th>\n",
       "      <td>105</td>\n",
       "      <td>72</td>\n",
       "      <td>89</td>\n",
       "      <td>95</td>\n",
       "      <td>70</td>\n",
       "      <td>78</td>\n",
       "      <td>89</td>\n",
       "    </tr>\n",
       "    <tr>\n",
       "      <th>unique</th>\n",
       "      <td>10</td>\n",
       "      <td>5</td>\n",
       "      <td>5</td>\n",
       "      <td>90</td>\n",
       "      <td>4</td>\n",
       "      <td>5</td>\n",
       "      <td>5</td>\n",
       "    </tr>\n",
       "    <tr>\n",
       "      <th>top</th>\n",
       "      <td>Alice</td>\n",
       "      <td>40</td>\n",
       "      <td>Male</td>\n",
       "      <td>user0@example.com</td>\n",
       "      <td>2021-05-21</td>\n",
       "      <td>50000</td>\n",
       "      <td>Engineering</td>\n",
       "    </tr>\n",
       "    <tr>\n",
       "      <th>freq</th>\n",
       "      <td>11</td>\n",
       "      <td>22</td>\n",
       "      <td>22</td>\n",
       "      <td>2</td>\n",
       "      <td>26</td>\n",
       "      <td>22</td>\n",
       "      <td>26</td>\n",
       "    </tr>\n",
       "  </tbody>\n",
       "</table>\n",
       "</div>"
      ],
      "text/plain": [
       "         Name Age Gender              Email   Join_Date Salary   Department\n",
       "count     105  72     89                 95          70     78           89\n",
       "unique     10   5      5                 90           4      5            5\n",
       "top     Alice  40   Male  user0@example.com  2021-05-21  50000  Engineering\n",
       "freq       11  22     22                  2          26     22           26"
      ]
     },
     "execution_count": 3,
     "metadata": {},
     "output_type": "execute_result"
    }
   ],
   "source": [
    "ds.describe()"
   ]
  },
  {
   "cell_type": "code",
   "execution_count": 6,
   "id": "497aab99-3a88-4ff3-bfc5-edbeefaab4a2",
   "metadata": {},
   "outputs": [
    {
     "name": "stdout",
     "output_type": "stream",
     "text": [
      "        Name      Age  Gender               Email     Join_Date   Salary   Department\n",
      "0      Alice      NaN     NaN   user0@example.com    2021-05-21      NaN        Admin\n",
      "1        Bob       40       M   user1@example.com           NaN    50000  Engineering\n",
      "2    Charlie  unknown    Male   user2@example.com    2020/01/01    50000           HR\n",
      "3      David      NaN     NaN   user3@example.com    2021-05-21    70000        Admin\n",
      "4        Eva       35   Other   user4@example.com  July 4, 2020    70000  Engineering\n",
      "5      Frank  unknown   Other   user5@example.com           NaN    70000        Admin\n",
      "6      Grace  unknown  Female   user6@example.com  July 4, 2020    80000  Engineering\n",
      "7     Hannah      NaN   Other   user7@example.com    2021-05-21      NaN           HR\n",
      "8        Ivy       30  Female   user8@example.com           NaN    50000  Engineering\n",
      "9       Jack       35    Male   user9@example.com    2020/01/01    80000  Engineering\n",
      "10     Alice      NaN       M  user10@example.com    2021-05-21    70000  Engineering\n",
      "11       Bob       35       M  user11@example.com  July 4, 2020    50000        Sales\n",
      "12   Charlie       35       M  user12@example.com    22-06-2022    80000        Sales\n",
      "13     David  unknown   Other  user13@example.com           NaN      NaN        Sales\n",
      "14       Eva       40    Male  user14@example.com  July 4, 2020    80000           HR\n",
      "15     Frank       35   Other  user15@example.com           NaN      NaN        Admin\n",
      "16     Grace      NaN   Other  user16@example.com    2021-05-21    70000          NaN\n",
      "17    Hannah  unknown    Male  user17@example.com           NaN      NaN  Engineering\n",
      "18       Ivy       30    Male  user18@example.com    2021-05-21    50000  Engineering\n",
      "19      Jack       40    Male  user19@example.com           NaN    70000           HR\n",
      "20     Alice      NaN    Male  user20@example.com    2021-05-21    50000  Engineering\n",
      "21       Bob      NaN       M  user21@example.com    22-06-2022  unknown        Sales\n",
      "22   Charlie       30       F  user22@example.com           NaN    60000          NaN\n",
      "23     David       40       F  user23@example.com           NaN      NaN    Marketing\n",
      "24       Eva  unknown    Male  user24@example.com           NaN    60000  Engineering\n",
      "25     Frank       25       F  user25@example.com    22-06-2022    60000        Sales\n",
      "26     Grace       40       F  user26@example.com  July 4, 2020      NaN    Marketing\n",
      "27    Hannah       30    Male  user27@example.com    2021-05-21    70000          NaN\n",
      "28       Ivy      NaN       F  user28@example.com    2020/01/01  unknown    Marketing\n",
      "29      Jack  unknown   Other  user29@example.com    2021-05-21    50000        Sales\n",
      "30     Alice       40  Female  user30@example.com    2021-05-21    80000        Admin\n",
      "31       Bob       25  Female  user31@example.com  July 4, 2020    50000        Admin\n",
      "32   Charlie       25    Male  user32@example.com    2021-05-21    80000    Marketing\n",
      "33     David       35       M  user33@example.com    22-06-2022    50000           HR\n",
      "34       Eva       35    Male  user34@example.com    22-06-2022      NaN    Marketing\n",
      "35     Frank      NaN       M  user35@example.com           NaN  unknown  Engineering\n",
      "36     Grace       30  Female  user36@example.com           NaN    80000  Engineering\n",
      "37    Hannah       40    Male  user37@example.com    2020/01/01      NaN        Admin\n",
      "38       Ivy       40     NaN  user38@example.com    2021-05-21    70000           HR\n",
      "39      Jack      NaN   Other  user39@example.com    2021-05-21    50000        Sales\n",
      "40     Alice      NaN       F  user40@example.com  July 4, 2020    50000  Engineering\n",
      "41       Bob      NaN       M  user41@example.com           NaN    80000        Admin\n",
      "42   Charlie      NaN     NaN  user42@example.com    22-06-2022    70000          NaN\n",
      "43     David      NaN       F  user43@example.com    2020/01/01    70000        Admin\n",
      "44       Eva       35       F  user44@example.com           NaN      NaN  Engineering\n",
      "45     Frank       40    Male  user45@example.com    22-06-2022      NaN  Engineering\n",
      "46     Grace      NaN       F  user46@example.com           NaN      NaN        Admin\n",
      "47    Hannah       40   Other  user47@example.com           NaN      NaN        Sales\n",
      "48       Ivy       25     NaN  user48@example.com  July 4, 2020      NaN    Marketing\n",
      "49      Jack       35       F  user49@example.com  July 4, 2020      NaN  Engineering\n",
      "50     Alice  unknown    Male  user50@example.com    2021-05-21      NaN        Admin\n",
      "51       Bob       35   Other  user51@example.com           NaN  unknown        Admin\n",
      "52   Charlie      NaN  Female  user52@example.com    2020/01/01    70000           HR\n",
      "53     David  unknown     NaN  user53@example.com           NaN      NaN    Marketing\n",
      "54       Eva       25       F  user54@example.com    22-06-2022    70000          NaN\n",
      "55     Frank      NaN    Male  user55@example.com           NaN    70000        Sales\n",
      "56     Grace       30  Female  user56@example.com           NaN    60000          NaN\n",
      "57    Hannah       40  Female  user57@example.com  July 4, 2020  unknown    Marketing\n",
      "58       Ivy       25       M  user58@example.com    2021-05-21      NaN    Marketing\n",
      "59      Jack       40   Other  user59@example.com    2021-05-21    50000    Marketing\n",
      "60     Alice      NaN       F  user60@example.com           NaN    80000          NaN\n",
      "61       Bob       30    Male  user61@example.com  July 4, 2020      NaN    Marketing\n",
      "62   Charlie       30       M  user62@example.com           NaN    50000        Admin\n",
      "63     David       25   Other  user63@example.com    2020/01/01  unknown          NaN\n",
      "64       Eva       30       M  user64@example.com  July 4, 2020    80000    Marketing\n",
      "65     Frank  unknown     NaN  user65@example.com           NaN  unknown        Admin\n",
      "66     Grace       30   Other  user66@example.com           NaN    70000           HR\n",
      "67    Hannah       40   Other  user67@example.com  July 4, 2020    80000    Marketing\n",
      "68       Ivy       40       F  user68@example.com           NaN    70000          NaN\n",
      "69      Jack      NaN   Other  user69@example.com  July 4, 2020    50000  Engineering\n",
      "70     Alice       40       M  user70@example.com    22-06-2022    50000    Marketing\n",
      "71       Bob      NaN   Other  user71@example.com  July 4, 2020    80000  Engineering\n",
      "72   Charlie       40       F  user72@example.com  July 4, 2020    80000        Admin\n",
      "73     David  unknown       F  user73@example.com           NaN      NaN           HR\n",
      "74       Eva      NaN     NaN  user74@example.com           NaN  unknown        Sales\n",
      "75     Frank       35       M  user75@example.com    2021-05-21      NaN           HR\n",
      "76     Grace      NaN  Female  user76@example.com    2021-05-21  unknown    Marketing\n",
      "77    Hannah       25  Female  user77@example.com    22-06-2022      NaN  Engineering\n",
      "78       Ivy       40   Other  user78@example.com    2021-05-21    70000  Engineering\n",
      "79      Jack       30     NaN  user79@example.com  July 4, 2020    80000          NaN\n",
      "80     Alice       40    Male  user80@example.com           NaN    50000  Engineering\n",
      "81       Bob       30   Other  user81@example.com    2021-05-21  unknown          NaN\n",
      "82   Charlie      NaN     NaN  user82@example.com    2021-05-21  unknown        Admin\n",
      "83     David      NaN       M  user83@example.com    22-06-2022    50000        Sales\n",
      "84       Eva      NaN       M  user84@example.com           NaN      NaN    Marketing\n",
      "85     Frank       30       M  user85@example.com    22-06-2022  unknown          NaN\n",
      "86     Grace       40       M  user86@example.com  July 4, 2020      NaN        Sales\n",
      "87    Hannah      NaN       M  user87@example.com           NaN    70000  Engineering\n",
      "88       Ivy  unknown     NaN  user88@example.com    22-06-2022    80000  Engineering\n",
      "89      Jack      NaN     NaN  user89@example.com    2021-05-21    50000        Sales\n",
      "90     Alice       30       F                 NaN           NaN    80000  Engineering\n",
      "91       Bob       30  Female                 NaN           NaN      NaN        Admin\n",
      "92   Charlie       40       M                 NaN    2021-05-21  unknown        Admin\n",
      "93     David       30    Male                 NaN    22-06-2022  unknown        Sales\n",
      "94       Eva       30     NaN                 NaN    2021-05-21      NaN          NaN\n",
      "95     Frank      NaN    Male                 NaN           NaN    50000          NaN\n",
      "96     Grace       40    Male                 NaN           NaN    70000        Sales\n",
      "97    Hannah      NaN    Male                 NaN    2020/01/01    60000          NaN\n",
      "98       Ivy      NaN       F                 NaN    2020/01/01    50000          NaN\n",
      "99      Jack      NaN     NaN                 NaN  July 4, 2020    60000        Admin\n",
      "100    Alice      NaN     NaN   user0@example.com    2021-05-21      NaN        Admin\n",
      "101      Bob       40       M   user1@example.com           NaN    50000  Engineering\n",
      "102  Charlie  unknown    Male   user2@example.com    2020/01/01    50000           HR\n",
      "103    David      NaN     NaN   user3@example.com    2021-05-21    70000        Admin\n",
      "104      Eva       35   Other   user4@example.com  July 4, 2020    70000  Engineering\n"
     ]
    }
   ],
   "source": [
    "print(ds.to_string())"
   ]
  },
  {
   "cell_type": "code",
   "execution_count": 7,
   "id": "868bc48f-257a-45b4-bc6a-cbb1dbab7e33",
   "metadata": {},
   "outputs": [
    {
     "data": {
      "text/plain": [
       "np.int64(5)"
      ]
     },
     "execution_count": 7,
     "metadata": {},
     "output_type": "execute_result"
    }
   ],
   "source": [
    "ds.duplicated().sum()"
   ]
  },
  {
   "cell_type": "code",
   "execution_count": 8,
   "id": "480e9ade-4035-49e1-ad88-bc259d30a479",
   "metadata": {},
   "outputs": [],
   "source": [
    "ds.drop_duplicates(inplace=True)"
   ]
  },
  {
   "cell_type": "code",
   "execution_count": 9,
   "id": "1f0af746-e2b4-4c8a-8202-eda92f686394",
   "metadata": {},
   "outputs": [
    {
     "data": {
      "text/plain": [
       "np.int64(0)"
      ]
     },
     "execution_count": 9,
     "metadata": {},
     "output_type": "execute_result"
    }
   ],
   "source": [
    "ds.duplicated().sum()"
   ]
  },
  {
   "cell_type": "code",
   "execution_count": 11,
   "id": "3940578e-389f-406d-ac68-1631a30e8883",
   "metadata": {},
   "outputs": [],
   "source": [
    "ds['Age']=pd.to_numeric(ds['Age'],errors='coerce')"
   ]
  },
  {
   "cell_type": "code",
   "execution_count": 12,
   "id": "4c9e7306-4923-4be8-95e8-e06973589319",
   "metadata": {},
   "outputs": [
    {
     "name": "stdout",
     "output_type": "stream",
     "text": [
      "<class 'pandas.core.frame.DataFrame'>\n",
      "Index: 100 entries, 0 to 99\n",
      "Data columns (total 7 columns):\n",
      " #   Column      Non-Null Count  Dtype  \n",
      "---  ------      --------------  -----  \n",
      " 0   Name        100 non-null    object \n",
      " 1   Age         57 non-null     float64\n",
      " 2   Gender      86 non-null     object \n",
      " 3   Email       90 non-null     object \n",
      " 4   Join_Date   66 non-null     object \n",
      " 5   Salary      74 non-null     object \n",
      " 6   Department  84 non-null     object \n",
      "dtypes: float64(1), object(6)\n",
      "memory usage: 6.2+ KB\n"
     ]
    }
   ],
   "source": [
    "ds.info()"
   ]
  },
  {
   "cell_type": "code",
   "execution_count": 16,
   "id": "f3e0b189-ac42-406f-b956-1b4a18d03b24",
   "metadata": {},
   "outputs": [],
   "source": [
    "x=ds['Age'].median()\n",
    "ds['Age'].fillna(x,inplace=True)"
   ]
  },
  {
   "cell_type": "code",
   "execution_count": 17,
   "id": "10d06b08-2017-4e40-ab78-1078469124d6",
   "metadata": {},
   "outputs": [
    {
     "data": {
      "text/plain": [
       "array([35., 40., 30., 25.])"
      ]
     },
     "execution_count": 17,
     "metadata": {},
     "output_type": "execute_result"
    }
   ],
   "source": [
    "ds[\"Age\"].unique()"
   ]
  },
  {
   "cell_type": "code",
   "execution_count": 18,
   "id": "7ac27c24-34d7-4db1-8cbb-aff9a504d7c4",
   "metadata": {},
   "outputs": [
    {
     "data": {
      "text/plain": [
       "array([nan, 'M', 'Male', 'Other', 'Female', 'F'], dtype=object)"
      ]
     },
     "execution_count": 18,
     "metadata": {},
     "output_type": "execute_result"
    }
   ],
   "source": [
    "ds['Gender'].unique()"
   ]
  },
  {
   "cell_type": "code",
   "execution_count": 19,
   "id": "0755ef50-9a13-4952-89f9-4f4fd2249fd8",
   "metadata": {},
   "outputs": [],
   "source": [
    "ds['Gender']=ds['Gender'].replace(\n",
    "    {\n",
    "        \"M\":\"Male\",\n",
    "        \"F\":\"Female\",\n",
    "        \"\":\"None\"\n",
    "    })"
   ]
  },
  {
   "cell_type": "code",
   "execution_count": 20,
   "id": "e0253603-9538-42a7-882e-c2253953f0f7",
   "metadata": {},
   "outputs": [
    {
     "data": {
      "text/plain": [
       "array([nan, 'Male', 'Other', 'Female'], dtype=object)"
      ]
     },
     "execution_count": 20,
     "metadata": {},
     "output_type": "execute_result"
    }
   ],
   "source": [
    "ds['Gender'].unique()"
   ]
  },
  {
   "cell_type": "code",
   "execution_count": 21,
   "id": "ab2f6066-2379-42be-8c88-92f6afe6d0cf",
   "metadata": {},
   "outputs": [],
   "source": [
    "ds['Email'].fillna(\"-\",inplace=True)"
   ]
  },
  {
   "cell_type": "code",
   "execution_count": 23,
   "id": "bef0b6bd-fdc3-4103-9154-8aa5b7619eea",
   "metadata": {},
   "outputs": [
    {
     "name": "stdout",
     "output_type": "stream",
     "text": [
      "       Name   Age  Gender               Email     Join_Date   Salary   Department\n",
      "0     Alice  35.0     NaN   user0@example.com    2021-05-21      NaN        Admin\n",
      "1       Bob  40.0    Male   user1@example.com           NaN    50000  Engineering\n",
      "2   Charlie  35.0    Male   user2@example.com    2020/01/01    50000           HR\n",
      "3     David  35.0     NaN   user3@example.com    2021-05-21    70000        Admin\n",
      "4       Eva  35.0   Other   user4@example.com  July 4, 2020    70000  Engineering\n",
      "5     Frank  35.0   Other   user5@example.com           NaN    70000        Admin\n",
      "6     Grace  35.0  Female   user6@example.com  July 4, 2020    80000  Engineering\n",
      "7    Hannah  35.0   Other   user7@example.com    2021-05-21      NaN           HR\n",
      "8       Ivy  30.0  Female   user8@example.com           NaN    50000  Engineering\n",
      "9      Jack  35.0    Male   user9@example.com    2020/01/01    80000  Engineering\n",
      "10    Alice  35.0    Male  user10@example.com    2021-05-21    70000  Engineering\n",
      "11      Bob  35.0    Male  user11@example.com  July 4, 2020    50000        Sales\n",
      "12  Charlie  35.0    Male  user12@example.com    22-06-2022    80000        Sales\n",
      "13    David  35.0   Other  user13@example.com           NaN      NaN        Sales\n",
      "14      Eva  40.0    Male  user14@example.com  July 4, 2020    80000           HR\n",
      "15    Frank  35.0   Other  user15@example.com           NaN      NaN        Admin\n",
      "16    Grace  35.0   Other  user16@example.com    2021-05-21    70000          NaN\n",
      "17   Hannah  35.0    Male  user17@example.com           NaN      NaN  Engineering\n",
      "18      Ivy  30.0    Male  user18@example.com    2021-05-21    50000  Engineering\n",
      "19     Jack  40.0    Male  user19@example.com           NaN    70000           HR\n",
      "20    Alice  35.0    Male  user20@example.com    2021-05-21    50000  Engineering\n",
      "21      Bob  35.0    Male  user21@example.com    22-06-2022  unknown        Sales\n",
      "22  Charlie  30.0  Female  user22@example.com           NaN    60000          NaN\n",
      "23    David  40.0  Female  user23@example.com           NaN      NaN    Marketing\n",
      "24      Eva  35.0    Male  user24@example.com           NaN    60000  Engineering\n",
      "25    Frank  25.0  Female  user25@example.com    22-06-2022    60000        Sales\n",
      "26    Grace  40.0  Female  user26@example.com  July 4, 2020      NaN    Marketing\n",
      "27   Hannah  30.0    Male  user27@example.com    2021-05-21    70000          NaN\n",
      "28      Ivy  35.0  Female  user28@example.com    2020/01/01  unknown    Marketing\n",
      "29     Jack  35.0   Other  user29@example.com    2021-05-21    50000        Sales\n",
      "30    Alice  40.0  Female  user30@example.com    2021-05-21    80000        Admin\n",
      "31      Bob  25.0  Female  user31@example.com  July 4, 2020    50000        Admin\n",
      "32  Charlie  25.0    Male  user32@example.com    2021-05-21    80000    Marketing\n",
      "33    David  35.0    Male  user33@example.com    22-06-2022    50000           HR\n",
      "34      Eva  35.0    Male  user34@example.com    22-06-2022      NaN    Marketing\n",
      "35    Frank  35.0    Male  user35@example.com           NaN  unknown  Engineering\n",
      "36    Grace  30.0  Female  user36@example.com           NaN    80000  Engineering\n",
      "37   Hannah  40.0    Male  user37@example.com    2020/01/01      NaN        Admin\n",
      "38      Ivy  40.0     NaN  user38@example.com    2021-05-21    70000           HR\n",
      "39     Jack  35.0   Other  user39@example.com    2021-05-21    50000        Sales\n",
      "40    Alice  35.0  Female  user40@example.com  July 4, 2020    50000  Engineering\n",
      "41      Bob  35.0    Male  user41@example.com           NaN    80000        Admin\n",
      "42  Charlie  35.0     NaN  user42@example.com    22-06-2022    70000          NaN\n",
      "43    David  35.0  Female  user43@example.com    2020/01/01    70000        Admin\n",
      "44      Eva  35.0  Female  user44@example.com           NaN      NaN  Engineering\n",
      "45    Frank  40.0    Male  user45@example.com    22-06-2022      NaN  Engineering\n",
      "46    Grace  35.0  Female  user46@example.com           NaN      NaN        Admin\n",
      "47   Hannah  40.0   Other  user47@example.com           NaN      NaN        Sales\n",
      "48      Ivy  25.0     NaN  user48@example.com  July 4, 2020      NaN    Marketing\n",
      "49     Jack  35.0  Female  user49@example.com  July 4, 2020      NaN  Engineering\n",
      "50    Alice  35.0    Male  user50@example.com    2021-05-21      NaN        Admin\n",
      "51      Bob  35.0   Other  user51@example.com           NaN  unknown        Admin\n",
      "52  Charlie  35.0  Female  user52@example.com    2020/01/01    70000           HR\n",
      "53    David  35.0     NaN  user53@example.com           NaN      NaN    Marketing\n",
      "54      Eva  25.0  Female  user54@example.com    22-06-2022    70000          NaN\n",
      "55    Frank  35.0    Male  user55@example.com           NaN    70000        Sales\n",
      "56    Grace  30.0  Female  user56@example.com           NaN    60000          NaN\n",
      "57   Hannah  40.0  Female  user57@example.com  July 4, 2020  unknown    Marketing\n",
      "58      Ivy  25.0    Male  user58@example.com    2021-05-21      NaN    Marketing\n",
      "59     Jack  40.0   Other  user59@example.com    2021-05-21    50000    Marketing\n",
      "60    Alice  35.0  Female  user60@example.com           NaN    80000          NaN\n",
      "61      Bob  30.0    Male  user61@example.com  July 4, 2020      NaN    Marketing\n",
      "62  Charlie  30.0    Male  user62@example.com           NaN    50000        Admin\n",
      "63    David  25.0   Other  user63@example.com    2020/01/01  unknown          NaN\n",
      "64      Eva  30.0    Male  user64@example.com  July 4, 2020    80000    Marketing\n",
      "65    Frank  35.0     NaN  user65@example.com           NaN  unknown        Admin\n",
      "66    Grace  30.0   Other  user66@example.com           NaN    70000           HR\n",
      "67   Hannah  40.0   Other  user67@example.com  July 4, 2020    80000    Marketing\n",
      "68      Ivy  40.0  Female  user68@example.com           NaN    70000          NaN\n",
      "69     Jack  35.0   Other  user69@example.com  July 4, 2020    50000  Engineering\n",
      "70    Alice  40.0    Male  user70@example.com    22-06-2022    50000    Marketing\n",
      "71      Bob  35.0   Other  user71@example.com  July 4, 2020    80000  Engineering\n",
      "72  Charlie  40.0  Female  user72@example.com  July 4, 2020    80000        Admin\n",
      "73    David  35.0  Female  user73@example.com           NaN      NaN           HR\n",
      "74      Eva  35.0     NaN  user74@example.com           NaN  unknown        Sales\n",
      "75    Frank  35.0    Male  user75@example.com    2021-05-21      NaN           HR\n",
      "76    Grace  35.0  Female  user76@example.com    2021-05-21  unknown    Marketing\n",
      "77   Hannah  25.0  Female  user77@example.com    22-06-2022      NaN  Engineering\n",
      "78      Ivy  40.0   Other  user78@example.com    2021-05-21    70000  Engineering\n",
      "79     Jack  30.0     NaN  user79@example.com  July 4, 2020    80000          NaN\n",
      "80    Alice  40.0    Male  user80@example.com           NaN    50000  Engineering\n",
      "81      Bob  30.0   Other  user81@example.com    2021-05-21  unknown          NaN\n",
      "82  Charlie  35.0     NaN  user82@example.com    2021-05-21  unknown        Admin\n",
      "83    David  35.0    Male  user83@example.com    22-06-2022    50000        Sales\n",
      "84      Eva  35.0    Male  user84@example.com           NaN      NaN    Marketing\n",
      "85    Frank  30.0    Male  user85@example.com    22-06-2022  unknown          NaN\n",
      "86    Grace  40.0    Male  user86@example.com  July 4, 2020      NaN        Sales\n",
      "87   Hannah  35.0    Male  user87@example.com           NaN    70000  Engineering\n",
      "88      Ivy  35.0     NaN  user88@example.com    22-06-2022    80000  Engineering\n",
      "89     Jack  35.0     NaN  user89@example.com    2021-05-21    50000        Sales\n",
      "90    Alice  30.0  Female                   -           NaN    80000  Engineering\n",
      "91      Bob  30.0  Female                   -           NaN      NaN        Admin\n",
      "92  Charlie  40.0    Male                   -    2021-05-21  unknown        Admin\n",
      "93    David  30.0    Male                   -    22-06-2022  unknown        Sales\n",
      "94      Eva  30.0     NaN                   -    2021-05-21      NaN          NaN\n",
      "95    Frank  35.0    Male                   -           NaN    50000          NaN\n",
      "96    Grace  40.0    Male                   -           NaN    70000        Sales\n",
      "97   Hannah  35.0    Male                   -    2020/01/01    60000          NaN\n",
      "98      Ivy  35.0  Female                   -    2020/01/01    50000          NaN\n",
      "99     Jack  35.0     NaN                   -  July 4, 2020    60000        Admin\n"
     ]
    }
   ],
   "source": [
    "print(ds.to_string())"
   ]
  },
  {
   "cell_type": "code",
   "execution_count": 24,
   "id": "014a0623-ebd3-4316-8542-44e0fe782943",
   "metadata": {},
   "outputs": [],
   "source": [
    "ds['Join_Date']=pd.to_datetime(ds['Join_Date'],errors='coerce')"
   ]
  },
  {
   "cell_type": "code",
   "execution_count": 25,
   "id": "f7ccf6ca-b9b7-487e-b44d-7ba7d004c25b",
   "metadata": {},
   "outputs": [],
   "source": [
    "ds['Salary']=pd.to_numeric(ds['Salary'],errors='coerce')"
   ]
  },
  {
   "cell_type": "code",
   "execution_count": 26,
   "id": "17691d7e-c56b-40cb-9f80-ab02e73e5722",
   "metadata": {},
   "outputs": [
    {
     "name": "stdout",
     "output_type": "stream",
     "text": [
      "<class 'pandas.core.frame.DataFrame'>\n",
      "Index: 100 entries, 0 to 99\n",
      "Data columns (total 7 columns):\n",
      " #   Column      Non-Null Count  Dtype         \n",
      "---  ------      --------------  -----         \n",
      " 0   Name        100 non-null    object        \n",
      " 1   Age         100 non-null    float64       \n",
      " 2   Gender      86 non-null     object        \n",
      " 3   Email       100 non-null    object        \n",
      " 4   Join_Date   24 non-null     datetime64[ns]\n",
      " 5   Salary      60 non-null     float64       \n",
      " 6   Department  84 non-null     object        \n",
      "dtypes: datetime64[ns](1), float64(2), object(4)\n",
      "memory usage: 6.2+ KB\n"
     ]
    }
   ],
   "source": [
    "ds.info()"
   ]
  },
  {
   "cell_type": "code",
   "execution_count": 27,
   "id": "d6b5465a-5efc-43b3-a0be-e0bb83d4321c",
   "metadata": {},
   "outputs": [
    {
     "data": {
      "text/plain": [
       "array(['Admin', 'Engineering', 'HR', 'Sales', nan, 'Marketing'],\n",
       "      dtype=object)"
      ]
     },
     "execution_count": 27,
     "metadata": {},
     "output_type": "execute_result"
    }
   ],
   "source": [
    "ds['Department'].unique()"
   ]
  },
  {
   "cell_type": "code",
   "execution_count": 28,
   "id": "cbcf2abd-dfb7-4b4d-9531-8ba5fb1d1551",
   "metadata": {},
   "outputs": [],
   "source": [
    "y=ds['Department'].mode()[0]\n",
    "ds['Department'].fillna(y,inplace=True)"
   ]
  },
  {
   "cell_type": "code",
   "execution_count": 29,
   "id": "8a7b3983-1af4-4f41-8ad9-83a56fbfbf1f",
   "metadata": {},
   "outputs": [],
   "source": [
    "ds.to_csv(\"Cleaned_data_pr1.csv\")"
   ]
  },
  {
   "cell_type": "code",
   "execution_count": 31,
   "id": "bfa97540-63ab-4b3f-8c2e-967875d61499",
   "metadata": {},
   "outputs": [
    {
     "name": "stdout",
     "output_type": "stream",
     "text": [
      "    Unnamed: 0     Name   Age  Gender               Email   Join_Date   Salary   Department\n",
      "0            0    Alice  35.0     NaN   user0@example.com  2021-05-21      NaN        Admin\n",
      "1            1      Bob  40.0    Male   user1@example.com         NaN  50000.0  Engineering\n",
      "2            2  Charlie  35.0    Male   user2@example.com         NaN  50000.0           HR\n",
      "3            3    David  35.0     NaN   user3@example.com  2021-05-21  70000.0        Admin\n",
      "4            4      Eva  35.0   Other   user4@example.com         NaN  70000.0  Engineering\n",
      "5            5    Frank  35.0   Other   user5@example.com         NaN  70000.0        Admin\n",
      "6            6    Grace  35.0  Female   user6@example.com         NaN  80000.0  Engineering\n",
      "7            7   Hannah  35.0   Other   user7@example.com  2021-05-21      NaN           HR\n",
      "8            8      Ivy  30.0  Female   user8@example.com         NaN  50000.0  Engineering\n",
      "9            9     Jack  35.0    Male   user9@example.com         NaN  80000.0  Engineering\n",
      "10          10    Alice  35.0    Male  user10@example.com  2021-05-21  70000.0  Engineering\n",
      "11          11      Bob  35.0    Male  user11@example.com         NaN  50000.0        Sales\n",
      "12          12  Charlie  35.0    Male  user12@example.com         NaN  80000.0        Sales\n",
      "13          13    David  35.0   Other  user13@example.com         NaN      NaN        Sales\n",
      "14          14      Eva  40.0    Male  user14@example.com         NaN  80000.0           HR\n",
      "15          15    Frank  35.0   Other  user15@example.com         NaN      NaN        Admin\n",
      "16          16    Grace  35.0   Other  user16@example.com  2021-05-21  70000.0  Engineering\n",
      "17          17   Hannah  35.0    Male  user17@example.com         NaN      NaN  Engineering\n",
      "18          18      Ivy  30.0    Male  user18@example.com  2021-05-21  50000.0  Engineering\n",
      "19          19     Jack  40.0    Male  user19@example.com         NaN  70000.0           HR\n",
      "20          20    Alice  35.0    Male  user20@example.com  2021-05-21  50000.0  Engineering\n",
      "21          21      Bob  35.0    Male  user21@example.com         NaN      NaN        Sales\n",
      "22          22  Charlie  30.0  Female  user22@example.com         NaN  60000.0  Engineering\n",
      "23          23    David  40.0  Female  user23@example.com         NaN      NaN    Marketing\n",
      "24          24      Eva  35.0    Male  user24@example.com         NaN  60000.0  Engineering\n",
      "25          25    Frank  25.0  Female  user25@example.com         NaN  60000.0        Sales\n",
      "26          26    Grace  40.0  Female  user26@example.com         NaN      NaN    Marketing\n",
      "27          27   Hannah  30.0    Male  user27@example.com  2021-05-21  70000.0  Engineering\n",
      "28          28      Ivy  35.0  Female  user28@example.com         NaN      NaN    Marketing\n",
      "29          29     Jack  35.0   Other  user29@example.com  2021-05-21  50000.0        Sales\n",
      "30          30    Alice  40.0  Female  user30@example.com  2021-05-21  80000.0        Admin\n",
      "31          31      Bob  25.0  Female  user31@example.com         NaN  50000.0        Admin\n",
      "32          32  Charlie  25.0    Male  user32@example.com  2021-05-21  80000.0    Marketing\n",
      "33          33    David  35.0    Male  user33@example.com         NaN  50000.0           HR\n",
      "34          34      Eva  35.0    Male  user34@example.com         NaN      NaN    Marketing\n",
      "35          35    Frank  35.0    Male  user35@example.com         NaN      NaN  Engineering\n",
      "36          36    Grace  30.0  Female  user36@example.com         NaN  80000.0  Engineering\n",
      "37          37   Hannah  40.0    Male  user37@example.com         NaN      NaN        Admin\n",
      "38          38      Ivy  40.0     NaN  user38@example.com  2021-05-21  70000.0           HR\n",
      "39          39     Jack  35.0   Other  user39@example.com  2021-05-21  50000.0        Sales\n",
      "40          40    Alice  35.0  Female  user40@example.com         NaN  50000.0  Engineering\n",
      "41          41      Bob  35.0    Male  user41@example.com         NaN  80000.0        Admin\n",
      "42          42  Charlie  35.0     NaN  user42@example.com         NaN  70000.0  Engineering\n",
      "43          43    David  35.0  Female  user43@example.com         NaN  70000.0        Admin\n",
      "44          44      Eva  35.0  Female  user44@example.com         NaN      NaN  Engineering\n",
      "45          45    Frank  40.0    Male  user45@example.com         NaN      NaN  Engineering\n",
      "46          46    Grace  35.0  Female  user46@example.com         NaN      NaN        Admin\n",
      "47          47   Hannah  40.0   Other  user47@example.com         NaN      NaN        Sales\n",
      "48          48      Ivy  25.0     NaN  user48@example.com         NaN      NaN    Marketing\n",
      "49          49     Jack  35.0  Female  user49@example.com         NaN      NaN  Engineering\n",
      "50          50    Alice  35.0    Male  user50@example.com  2021-05-21      NaN        Admin\n",
      "51          51      Bob  35.0   Other  user51@example.com         NaN      NaN        Admin\n",
      "52          52  Charlie  35.0  Female  user52@example.com         NaN  70000.0           HR\n",
      "53          53    David  35.0     NaN  user53@example.com         NaN      NaN    Marketing\n",
      "54          54      Eva  25.0  Female  user54@example.com         NaN  70000.0  Engineering\n",
      "55          55    Frank  35.0    Male  user55@example.com         NaN  70000.0        Sales\n",
      "56          56    Grace  30.0  Female  user56@example.com         NaN  60000.0  Engineering\n",
      "57          57   Hannah  40.0  Female  user57@example.com         NaN      NaN    Marketing\n",
      "58          58      Ivy  25.0    Male  user58@example.com  2021-05-21      NaN    Marketing\n",
      "59          59     Jack  40.0   Other  user59@example.com  2021-05-21  50000.0    Marketing\n",
      "60          60    Alice  35.0  Female  user60@example.com         NaN  80000.0  Engineering\n",
      "61          61      Bob  30.0    Male  user61@example.com         NaN      NaN    Marketing\n",
      "62          62  Charlie  30.0    Male  user62@example.com         NaN  50000.0        Admin\n",
      "63          63    David  25.0   Other  user63@example.com         NaN      NaN  Engineering\n",
      "64          64      Eva  30.0    Male  user64@example.com         NaN  80000.0    Marketing\n",
      "65          65    Frank  35.0     NaN  user65@example.com         NaN      NaN        Admin\n",
      "66          66    Grace  30.0   Other  user66@example.com         NaN  70000.0           HR\n",
      "67          67   Hannah  40.0   Other  user67@example.com         NaN  80000.0    Marketing\n",
      "68          68      Ivy  40.0  Female  user68@example.com         NaN  70000.0  Engineering\n",
      "69          69     Jack  35.0   Other  user69@example.com         NaN  50000.0  Engineering\n",
      "70          70    Alice  40.0    Male  user70@example.com         NaN  50000.0    Marketing\n",
      "71          71      Bob  35.0   Other  user71@example.com         NaN  80000.0  Engineering\n",
      "72          72  Charlie  40.0  Female  user72@example.com         NaN  80000.0        Admin\n",
      "73          73    David  35.0  Female  user73@example.com         NaN      NaN           HR\n",
      "74          74      Eva  35.0     NaN  user74@example.com         NaN      NaN        Sales\n",
      "75          75    Frank  35.0    Male  user75@example.com  2021-05-21      NaN           HR\n",
      "76          76    Grace  35.0  Female  user76@example.com  2021-05-21      NaN    Marketing\n",
      "77          77   Hannah  25.0  Female  user77@example.com         NaN      NaN  Engineering\n",
      "78          78      Ivy  40.0   Other  user78@example.com  2021-05-21  70000.0  Engineering\n",
      "79          79     Jack  30.0     NaN  user79@example.com         NaN  80000.0  Engineering\n",
      "80          80    Alice  40.0    Male  user80@example.com         NaN  50000.0  Engineering\n",
      "81          81      Bob  30.0   Other  user81@example.com  2021-05-21      NaN  Engineering\n",
      "82          82  Charlie  35.0     NaN  user82@example.com  2021-05-21      NaN        Admin\n",
      "83          83    David  35.0    Male  user83@example.com         NaN  50000.0        Sales\n",
      "84          84      Eva  35.0    Male  user84@example.com         NaN      NaN    Marketing\n",
      "85          85    Frank  30.0    Male  user85@example.com         NaN      NaN  Engineering\n",
      "86          86    Grace  40.0    Male  user86@example.com         NaN      NaN        Sales\n",
      "87          87   Hannah  35.0    Male  user87@example.com         NaN  70000.0  Engineering\n",
      "88          88      Ivy  35.0     NaN  user88@example.com         NaN  80000.0  Engineering\n",
      "89          89     Jack  35.0     NaN  user89@example.com  2021-05-21  50000.0        Sales\n",
      "90          90    Alice  30.0  Female                   -         NaN  80000.0  Engineering\n",
      "91          91      Bob  30.0  Female                   -         NaN      NaN        Admin\n",
      "92          92  Charlie  40.0    Male                   -  2021-05-21      NaN        Admin\n",
      "93          93    David  30.0    Male                   -         NaN      NaN        Sales\n",
      "94          94      Eva  30.0     NaN                   -  2021-05-21      NaN  Engineering\n",
      "95          95    Frank  35.0    Male                   -         NaN  50000.0  Engineering\n",
      "96          96    Grace  40.0    Male                   -         NaN  70000.0        Sales\n",
      "97          97   Hannah  35.0    Male                   -         NaN  60000.0  Engineering\n",
      "98          98      Ivy  35.0  Female                   -         NaN  50000.0  Engineering\n",
      "99          99     Jack  35.0     NaN                   -         NaN  60000.0        Admin\n"
     ]
    }
   ],
   "source": [
    "ds2=pd.read_csv(\"Cleaned_data_pr1.csv\")\n",
    "print(ds2.to_string())"
   ]
  },
  {
   "cell_type": "code",
   "execution_count": null,
   "id": "d06a6d9f-30d1-4979-a31b-2f35b3c91f04",
   "metadata": {},
   "outputs": [],
   "source": []
  }
 ],
 "metadata": {
  "kernelspec": {
   "display_name": "Python 3 (ipykernel)",
   "language": "python",
   "name": "python3"
  },
  "language_info": {
   "codemirror_mode": {
    "name": "ipython",
    "version": 3
   },
   "file_extension": ".py",
   "mimetype": "text/x-python",
   "name": "python",
   "nbconvert_exporter": "python",
   "pygments_lexer": "ipython3",
   "version": "3.13.1"
  }
 },
 "nbformat": 4,
 "nbformat_minor": 5
}
